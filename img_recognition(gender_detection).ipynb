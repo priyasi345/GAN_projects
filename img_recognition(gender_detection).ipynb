{
  "nbformat": 4,
  "nbformat_minor": 0,
  "metadata": {
    "colab": {
      "name": "img_recognition(gender_detection).ipynb",
      "provenance": []
    },
    "kernelspec": {
      "name": "python3",
      "display_name": "Python 3"
    }
  },
  "cells": [
    {
      "cell_type": "code",
      "metadata": {
        "id": "dfo5BA6aAV5M",
        "colab_type": "code",
        "colab": {}
      },
      "source": [
        "##Provided data_files::\n",
        "##img_align_celeba.zip: All the face images, cropped and aligned\n",
        "##list_eval_partition.csv: Recommended partitioning of images into training, validation, testing sets. Images 1-162770 are training, 162771-182637 are validation, 182638-202599 are testing\n",
        "##list_bbox_celeba.csv: Bounding box information for each image. \"x_1\" and \"y_1\" represent the upper left point coordinate of bounding box. \"width\" and \"height\" represent the width and height of bounding box\n",
        "##list_landmarks_align_celeba.csv: Image landmarks and their respective coordinates. There are 5 landmarks: left eye, right eye, nose, left mouth, right mouth\n",
        "##list_attr_celeba.csv: Attribute labels for each image. There are 40 attributes. \"1\" represents positive while \"-1\" represents negative\n"
      ],
      "execution_count": null,
      "outputs": []
    },
    {
      "cell_type": "code",
      "metadata": {
        "id": "4247FnYLBY0G",
        "colab_type": "code",
        "colab": {}
      },
      "source": [
        "import pandas as pd\n",
        "import numpy as np\n",
        "import cv2    \n",
        "import matplotlib.pyplot as plt\n",
        "import seaborn as sns\n",
        "from sklearn.metrics import f1_score\n",
        "\n",
        "from keras.applications.inception_v3 import InceptionV3, preprocess_input\n",
        "from keras import optimizers\n",
        "from keras.models import Sequential, Model \n",
        "from keras.layers import Dropout, Flatten, Dense, GlobalAveragePooling2D\n",
        "from keras.callbacks import ModelCheckpoint\n",
        "from keras.preprocessing.image import ImageDataGenerator, array_to_img, img_to_array, load_img\n",
        "from keras.utils import np_utils\n",
        "from keras.optimizers import SGD\n",
        "\n",
        "from IPython.core.display import display, HTML\n",
        "from PIL import Image\n",
        "from io import BytesIO\n",
        "import base64\n",
        "\n",
        "plt.style.use('ggplot')\n",
        "\n",
        "%matplotlib inline\n"
      ],
      "execution_count": null,
      "outputs": []
    },
    {
      "cell_type": "code",
      "metadata": {
        "id": "xBlzE2SGBqEs",
        "colab_type": "code",
        "colab": {}
      },
      "source": [
        "import tensorflow as tf\n",
        "print(tf.__version__)"
      ],
      "execution_count": null,
      "outputs": []
    },
    {
      "cell_type": "markdown",
      "metadata": {
        "id": "lCMOPFfoB4oO",
        "colab_type": "text"
      },
      "source": [
        "Step 1: Data Exploration\n",
        "We will be using the CelebA Dataset, which includes images of 178 x 218 px. Below is an example of how the pictures looks like"
      ]
    },
    {
      "cell_type": "code",
      "metadata": {
        "id": "YD99nYEmBtVF",
        "colab_type": "code",
        "colab": {}
      },
      "source": [
        "# set variables \n",
        "main_folder = '../input/celeba-dataset/'\n",
        "images_folder = main_folder + 'img_align_celeba/img_align_celeba/'\n",
        "\n",
        "EXAMPLE_PIC = images_folder + '000506.jpg'\n",
        "\n",
        "TRAINING_SAMPLES = 10000\n",
        "VALIDATION_SAMPLES = 2000\n",
        "TEST_SAMPLES = 2000\n",
        "IMG_WIDTH = 178\n",
        "IMG_HEIGHT = 218\n",
        "BATCH_SIZE = 16\n",
        "NUM_EPOCHS = 20"
      ],
      "execution_count": null,
      "outputs": []
    },
    {
      "cell_type": "markdown",
      "metadata": {
        "id": "F-eFWNe0B38j",
        "colab_type": "text"
      },
      "source": [
        "Load the attributes of every picture"
      ]
    },
    {
      "cell_type": "code",
      "metadata": {
        "id": "GNsK4g0ICGH5",
        "colab_type": "code",
        "colab": {}
      },
      "source": [
        "# import the data set that include the attribute for each picture\n",
        "df_attr = pd.read_csv(main_folder + 'list_attr_celeba.csv')\n",
        "df_attr.set_index('image_id', inplace=True)\n",
        "df_attr.replace(to_replace=-1, value=0, inplace=True) #replace -1 by 0\n",
        "df_attr.shape"
      ],
      "execution_count": null,
      "outputs": []
    },
    {
      "cell_type": "code",
      "metadata": {
        "id": "3whlHxV3BwUG",
        "colab_type": "code",
        "colab": {}
      },
      "source": [
        "# List of available attributes\n",
        "for i, j in enumerate(df_attr.columns):\n",
        "    print(i, j)"
      ],
      "execution_count": null,
      "outputs": []
    },
    {
      "cell_type": "code",
      "metadata": {
        "id": "edfB-CawB-43",
        "colab_type": "code",
        "colab": {}
      },
      "source": [
        "# plot picture and attributes\n",
        "img = load_img(EXAMPLE_PIC)\n",
        "plt.grid(False)\n",
        "plt.imshow(img)\n",
        "df_attr.loc[EXAMPLE_PIC.split('/')[-1]][['Smiling','Male','Young']] #some attributes"
      ],
      "execution_count": null,
      "outputs": []
    },
    {
      "cell_type": "code",
      "metadata": {
        "id": "8C9XXAiHCQeJ",
        "colab_type": "code",
        "colab": {}
      },
      "source": [
        "# Female or Male?\n",
        "plt.title('Female or Male')\n",
        "sns.countplot(y='Male', data=df_attr, color=\"c\")\n",
        "plt.show()"
      ],
      "execution_count": null,
      "outputs": []
    },
    {
      "cell_type": "code",
      "metadata": {
        "id": "Ifjn4H9gCQvB",
        "colab_type": "code",
        "colab": {}
      },
      "source": [
        "##Step 2: Split Dataset into Training, Validation and Test\n",
        "##The recommended partitioning of images into training, validation, testing of the data set is:\n",
        "\n",
        "##1-162770 are training\n",
        "##162771-182637 are validation\n",
        "##182638-202599 are testing\n",
        "##The partition is in file list_eval_partition.csv\n",
        "\n",
        "##Due time execution, by now we will be using a reduced number of images:\n",
        "\n",
        "##Training 20000 images\n",
        "##Validation 5000 images\n",
        "##Test 5000 Images"
      ],
      "execution_count": null,
      "outputs": []
    },
    {
      "cell_type": "code",
      "metadata": {
        "id": "ljF2axotCf-i",
        "colab_type": "code",
        "colab": {}
      },
      "source": [
        "# Recomended partition\n",
        "df_partition = pd.read_csv(main_folder + 'list_eval_partition.csv')\n",
        "df_partition.head()\n"
      ],
      "execution_count": null,
      "outputs": []
    },
    {
      "cell_type": "code",
      "metadata": {
        "id": "Ko15jQigCirW",
        "colab_type": "code",
        "colab": {}
      },
      "source": [
        "# display counter by partition\n",
        "# 0 -> TRAINING\n",
        "# 1 -> VALIDATION\n",
        "# 2 -> TEST\n",
        "df_partition['partition'].value_counts().sort_index()"
      ],
      "execution_count": null,
      "outputs": []
    },
    {
      "cell_type": "code",
      "metadata": {
        "id": "9Y1dy3yuCntW",
        "colab_type": "code",
        "colab": {}
      },
      "source": [
        "# join the partition with the attributes\n",
        "df_partition.set_index('image_id', inplace=True)\n",
        "df_par_attr = df_partition.join(df_attr['Male'], how='inner')\n",
        "df_par_attr.head()"
      ],
      "execution_count": null,
      "outputs": []
    },
    {
      "cell_type": "code",
      "metadata": {
        "id": "jQEY4khNCrc4",
        "colab_type": "code",
        "colab": {}
      },
      "source": [
        "##: Generate Partitions (Train, Validation, Test)\n",
        "##Number of images need to be balanced in order to get a good performance for the model, each model will have its own folder of training, validation and test balanced data.\n",
        "\n",
        "##This degree project explains how imbalanced training data impact on CNNs models:\n",
        "\n",
        "##https://www.kth.se/social/files/588617ebf2765401cfcc478c/PHensmanDMasko_dkand15.pdf\n",
        "\n",
        "##On this step we will create functions that will help us to create each partition."
      ],
      "execution_count": null,
      "outputs": []
    },
    {
      "cell_type": "code",
      "metadata": {
        "id": "vyxSjtpeCy5F",
        "colab_type": "code",
        "colab": {}
      },
      "source": [
        "def load_reshape_img(fname):\n",
        "    img = load_img(fname)\n",
        "    x = img_to_array(img)/255.\n",
        "    x = x.reshape((1,) + x.shape)\n",
        "\n",
        "    return x\n",
        "\n",
        "\n",
        "def generate_df(partition, attr, num_samples):\n",
        "    '''\n",
        "    partition\n",
        "        0 -> train\n",
        "        1 -> validation\n",
        "        2 -> test\n",
        "    \n",
        "    '''\n",
        "    \n",
        "    df_ = df_par_attr[(df_par_attr['partition'] == partition) \n",
        "                           & (df_par_attr[attr] == 0)].sample(int(num_samples/2))\n",
        "    df_ = pd.concat([df_,\n",
        "                      df_par_attr[(df_par_attr['partition'] == partition) \n",
        "                                  & (df_par_attr[attr] == 1)].sample(int(num_samples/2))])\n",
        "\n",
        "    # for Train and Validation\n",
        "    if partition != 2:\n",
        "        x_ = np.array([load_reshape_img(images_folder + fname) for fname in df_.index])\n",
        "        x_ = x_.reshape(x_.shape[0], 218, 178, 3)\n",
        "        y_ = np_utils.to_categorical(df_[attr],2)\n",
        "    # for Test\n",
        "    else:\n",
        "        x_ = []\n",
        "        y_ = []\n",
        "\n",
        "        for index, target in df_.iterrows():\n",
        "            im = cv2.imread(images_folder + index)\n",
        "            im = cv2.resize(cv2.cvtColor(im, cv2.COLOR_BGR2RGB), (IMG_WIDTH, IMG_HEIGHT)).astype(np.float32) / 255.0\n",
        "            im = np.expand_dims(im, axis =0)\n",
        "            x_.append(im)\n",
        "            y_.append(target[attr])\n",
        "\n",
        "    return x_, y_"
      ],
      "execution_count": null,
      "outputs": []
    },
    {
      "cell_type": "code",
      "metadata": {
        "id": "hxcdYjpVC4RY",
        "colab_type": "code",
        "colab": {}
      },
      "source": [
        "##Step 3: Pre-processing Images: Data Augmentation\n",
        "##Generates Data Augmentation for iamges.\n",
        "\n",
        "##Data Augmentation allows to generate images with modifications to the original ones. The model will learn from these variations (changing angle, size and position), being able to predict better never seen images that could have the same variations in position, size and position.\n",
        "\n",
        "##3.1. Let's start with an example: Data Augmentation\n",
        "##This is how an image will look like after data augmentation (based in the giving parameters below)."
      ],
      "execution_count": null,
      "outputs": []
    },
    {
      "cell_type": "code",
      "metadata": {
        "id": "fTiVx_yrDEz_",
        "colab_type": "code",
        "colab": {}
      },
      "source": [
        "# Generate image generator for data augmentation\n",
        "datagen =  ImageDataGenerator(\n",
        "  #preprocessing_function=preprocess_input,\n",
        "  rotation_range=30,\n",
        "  width_shift_range=0.2,\n",
        "  height_shift_range=0.2,\n",
        "  shear_range=0.2,\n",
        "  zoom_range=0.2,\n",
        "  horizontal_flip=True\n",
        ")\n",
        "\n",
        "# load one image and reshape\n",
        "img = load_img(EXAMPLE_PIC)\n",
        "x = img_to_array(img)/255.\n",
        "x = x.reshape((1,) + x.shape)\n",
        "\n",
        "# plot 10 augmented images of the loaded iamge\n",
        "plt.figure(figsize=(20,10))\n",
        "plt.suptitle('Data Augmentation', fontsize=28)\n",
        "\n",
        "i = 0\n",
        "for batch in datagen.flow(x, batch_size=1):\n",
        "    plt.subplot(3, 5, i+1)\n",
        "    plt.grid(False)\n",
        "    plt.imshow( batch.reshape(218, 178, 3))\n",
        "    \n",
        "    if i == 9:\n",
        "        break\n",
        "    i += 1\n",
        "    \n",
        "plt.show()"
      ],
      "execution_count": null,
      "outputs": []
    },
    {
      "cell_type": "markdown",
      "metadata": {
        "id": "VqKDvyqYDPfW",
        "colab_type": "text"
      },
      "source": [
        "The result is a new set of images with modifications from the original one, that allows to the model to learn from these variations in order to take this kind of images during the learning process and predict better never seen images."
      ]
    },
    {
      "cell_type": "markdown",
      "metadata": {
        "id": "G4vKzSEfDUvd",
        "colab_type": "text"
      },
      "source": [
        " Build Data Generators"
      ]
    },
    {
      "cell_type": "code",
      "metadata": {
        "id": "jfdEseaZDRG8",
        "colab_type": "code",
        "colab": {}
      },
      "source": [
        "# Train data\n",
        "x_train, y_train = generate_df(0, 'Male', TRAINING_SAMPLES)\n",
        "\n",
        "# Train - Data Preparation - Data Augmentation with generators\n",
        "train_datagen =  ImageDataGenerator(\n",
        "  preprocessing_function=preprocess_input,\n",
        "  rotation_range=30,\n",
        "  width_shift_range=0.2,\n",
        "  height_shift_range=0.2,\n",
        "  shear_range=0.2,\n",
        "  zoom_range=0.2,\n",
        "  horizontal_flip=True,\n",
        ")\n",
        "\n",
        "train_datagen.fit(x_train)\n",
        "\n",
        "train_generator = train_datagen.flow(\n",
        "x_train, y_train,\n",
        "batch_size=BATCH_SIZE,\n",
        ")"
      ],
      "execution_count": null,
      "outputs": []
    },
    {
      "cell_type": "code",
      "metadata": {
        "id": "VDOvQrO7DX9u",
        "colab_type": "code",
        "colab": {}
      },
      "source": [
        "# Validation Data\n",
        "x_valid, y_valid = generate_df(1, 'Male', VALIDATION_SAMPLES)\n",
        "\n",
        "'''\n",
        "# Validation - Data Preparation - Data Augmentation with generators\n",
        "valid_datagen = ImageDataGenerator(\n",
        "  preprocessing_function=preprocess_input,\n",
        ")\n",
        "\n",
        "valid_datagen.fit(x_valid)\n",
        "\n",
        "validation_generator = valid_datagen.flow(\n",
        "x_valid, y_valid,\n",
        ")\n",
        "'''"
      ],
      "execution_count": null,
      "outputs": []
    },
    {
      "cell_type": "markdown",
      "metadata": {
        "id": "smgg_cgDDf-v",
        "colab_type": "text"
      },
      "source": [
        "With the data generator created and data for validation, we are ready to start modeling."
      ]
    },
    {
      "cell_type": "markdown",
      "metadata": {
        "id": "3ZBAJNFfDkin",
        "colab_type": "text"
      },
      "source": [
        "Step 4: Build the Model - Gender Recognition"
      ]
    },
    {
      "cell_type": "markdown",
      "metadata": {
        "id": "wiSp67S7Dpfw",
        "colab_type": "text"
      },
      "source": [
        " Set the Model"
      ]
    },
    {
      "cell_type": "code",
      "metadata": {
        "id": "XVeCpQQxDhGK",
        "colab_type": "code",
        "colab": {}
      },
      "source": [
        "# Import InceptionV3 Model\n",
        "inc_model = InceptionV3(weights='../input/inceptionv3/inception_v3_weights_tf_dim_ordering_tf_kernels_notop.h5',\n",
        "                        include_top=False,\n",
        "                        input_shape=(IMG_HEIGHT, IMG_WIDTH, 3))\n",
        "\n",
        "print(\"number of layers:\", len(inc_model.layers))\n",
        "#inc_model.summary()"
      ],
      "execution_count": null,
      "outputs": []
    },
    {
      "cell_type": "code",
      "metadata": {
        "id": "dP22wkemDwB2",
        "colab_type": "code",
        "colab": {}
      },
      "source": [
        "#Adding custom Layers\n",
        "x = inc_model.output\n",
        "x = GlobalAveragePooling2D()(x)\n",
        "x = Dense(1024, activation=\"relu\")(x)\n",
        "x = Dropout(0.5)(x)\n",
        "x = Dense(512, activation=\"relu\")(x)\n",
        "predictions = Dense(2, activation=\"softmax\")(x)"
      ],
      "execution_count": null,
      "outputs": []
    },
    {
      "cell_type": "code",
      "metadata": {
        "id": "DKgt2_oPDwSv",
        "colab_type": "code",
        "colab": {}
      },
      "source": [
        "# creating the final model \n",
        "model_ = Model(inputs=inc_model.input, outputs=predictions)\n",
        "\n",
        "# Lock initial layers to do not be trained\n",
        "for layer in model_.layers[:52]:\n",
        "    layer.trainable = False\n",
        "\n",
        "# compile the model\n",
        "model_.compile(optimizer=SGD(lr=0.0001, momentum=0.9)\n",
        "                    , loss='categorical_crossentropy'\n",
        "                    , metrics=['accuracy'])"
      ],
      "execution_count": null,
      "outputs": []
    },
    {
      "cell_type": "markdown",
      "metadata": {
        "id": "eOvxzv6GD14w",
        "colab_type": "text"
      },
      "source": [
        "Train Model"
      ]
    },
    {
      "cell_type": "code",
      "metadata": {
        "id": "KhP6C_1fD1Va",
        "colab_type": "code",
        "colab": {}
      },
      "source": [
        "#https://keras.io/models/sequential/ fit generator\n",
        "checkpointer = ModelCheckpoint(filepath='weights.best.inc.male.hdf5', \n",
        "                               verbose=1, save_best_only=True)"
      ],
      "execution_count": null,
      "outputs": []
    },
    {
      "cell_type": "code",
      "metadata": {
        "id": "WGgFHkSHD7Lt",
        "colab_type": "code",
        "colab": {}
      },
      "source": [
        "hist = model_.fit_generator(train_generator\n",
        "                     , validation_data = (x_valid, y_valid)\n",
        "                      , steps_per_epoch= TRAINING_SAMPLES/BATCH_SIZE\n",
        "                      , epochs= NUM_EPOCHS\n",
        "                      , callbacks=[checkpointer]\n",
        "                      , verbose=1\n",
        "                    )"
      ],
      "execution_count": null,
      "outputs": []
    },
    {
      "cell_type": "markdown",
      "metadata": {
        "id": "XydVt2vlEpoI",
        "colab_type": "text"
      },
      "source": [
        "The best model after NUM_epoch got an accuracy over the validation data of 95.75%."
      ]
    },
    {
      "cell_type": "code",
      "metadata": {
        "id": "3EFiVI2jEsWP",
        "colab_type": "code",
        "colab": {}
      },
      "source": [
        "# Plot loss function value through epochs\n",
        "plt.figure(figsize=(18, 4))\n",
        "plt.plot(hist.history['loss'], label = 'train')\n",
        "plt.plot(hist.history['val_loss'], label = 'valid')\n",
        "plt.legend()\n",
        "plt.title('Loss Function')\n",
        "plt.show()"
      ],
      "execution_count": null,
      "outputs": []
    },
    {
      "cell_type": "code",
      "metadata": {
        "id": "k5j_w7krEwpp",
        "colab_type": "code",
        "colab": {}
      },
      "source": [
        "# Plot accuracy through epochs\n",
        "plt.figure(figsize=(18, 4))\n",
        "plt.plot(hist.history['acc'], label = 'train')\n",
        "plt.plot(hist.history['val_acc'], label = 'valid')\n",
        "plt.legend()\n",
        "plt.title('Accuracy')\n",
        "plt.show()"
      ],
      "execution_count": null,
      "outputs": []
    },
    {
      "cell_type": "markdown",
      "metadata": {
        "id": "jQrTMmP0Ezhx",
        "colab_type": "text"
      },
      "source": [
        " Model Evaluation"
      ]
    },
    {
      "cell_type": "code",
      "metadata": {
        "id": "XZqb9UehEz5l",
        "colab_type": "code",
        "colab": {}
      },
      "source": [
        "#load the best model\n",
        "model_.load_weights('weights.best.inc.male.hdf5')"
      ],
      "execution_count": null,
      "outputs": []
    },
    {
      "cell_type": "code",
      "metadata": {
        "id": "5YtaLDEgE2Um",
        "colab_type": "code",
        "colab": {}
      },
      "source": [
        "# Test Data\n",
        "x_test, y_test = generate_df(2, 'Male', TEST_SAMPLES)\n",
        "\n",
        "# generate prediction\n",
        "model_predictions = [np.argmax(model_.predict(feature)) for feature in x_test ]\n",
        "\n",
        "# report test accuracy\n",
        "test_accuracy = 100 * np.sum(np.array(model_predictions)==y_test) / len(model_predictions)\n",
        "print('Model Evaluation')\n",
        "print('Test accuracy: %.4f%%' % test_accuracy)\n",
        "print('f1_score:', f1_score(y_test, model_predictions))"
      ],
      "execution_count": null,
      "outputs": []
    },
    {
      "cell_type": "markdown",
      "metadata": {
        "id": "LuqzYlwUF7ZT",
        "colab_type": "text"
      },
      "source": [
        "5. Conclusion\n",
        "The built model using transfer learning from the InceptionV3 and adding custom layers successfully recognize the gender giving certain picture with 94.8% of accuracy over the test data. Nevertheless, there are some limitations detected and opportunities for improvements:\n",
        "\n",
        "Train the algorithms with the entire data set of images. Due computational resource limitation, the model was train with a subset of images. Having an appropriate machine, the model can be trained including all the images. This will make the algorithm to learn from different context of the picture giving it more experience in order to predict better never seen images.\n",
        "\n",
        "Use difference structures for the CNNs. This approach could give better performance to the model, is an expensive task anyway, as the model can be measure on the test data set after is trained, and this takes time and computational resources.\n",
        "\n",
        "Watching the pictures of the CelebA Data Set, most of the pictures are almost a close-up to the face of the subject, this leads to the model to learn from this type of pictures, and in situation where the subjects is just a small portion of a picture, the model could not perform well. To deal with this, more sophisticated preprocessing data can be added or complement the data set with pictures that are not entirely based in close-up to the face of the subject.\n",
        "\n",
        "Environments where there are more than one subject in the picture was not part of the scope of this Notebook, but it is a good improvement in order to develop a better application. OpenCV is a good candidate to help with this development, as it very accurate to detect feces and its position in the pictures, then that portion of the picture (the faces) can be classified separately using the developed models on this project."
      ]
    },
    {
      "cell_type": "markdown",
      "metadata": {
        "id": "-SBedEHTGBT7",
        "colab_type": "text"
      },
      "source": [
        "Let's play with the Model"
      ]
    },
    {
      "cell_type": "code",
      "metadata": {
        "id": "t2e3KW-OFyCG",
        "colab_type": "code",
        "colab": {}
      },
      "source": [
        "#dictionary to name the prediction\n",
        "gender_target = {0: 'Female'\n",
        "                , 1: 'Male'}\n",
        "\n",
        "def img_to_display(filename):\n",
        "    # inspired on this kernel:\n",
        "    # https://www.kaggle.com/stassl/displaying-inline-images-in-pandas-dataframe\n",
        "    # credits to stassl :)\n",
        "    \n",
        "    i = Image.open(filename)\n",
        "    i.thumbnail((200, 200), Image.LANCZOS)\n",
        "    \n",
        "    with BytesIO() as buffer:\n",
        "        i.save(buffer, 'jpeg')\n",
        "        return base64.b64encode(buffer.getvalue()).decode()\n",
        "    \n",
        "\n",
        "def display_result(filename, prediction, target):\n",
        "    '''\n",
        "    Display the results in HTML\n",
        "    \n",
        "    '''\n",
        "\n",
        "    gender = 'Male'\n",
        "    gender_icon = \"https://i.imgur.com/nxWan2u.png\"\n",
        "        \n",
        "    if prediction[1] <= 0.5:\n",
        "        gender_icon = \"https://i.imgur.com/oAAb8rd.png\"\n",
        "        gender = 'Female'\n",
        "            \n",
        "    display_html = '''\n",
        "    <div style=\"overflow: auto;  border: 2px solid #D8D8D8;\n",
        "        padding: 5px; width: 420px;\" >\n",
        "        <img src=\"data:image/jpeg;base64,{}\" style=\"float: left;\" width=\"200\" height=\"200\">\n",
        "        <div style=\"padding: 10px 0px 0px 20px; overflow: auto;\">\n",
        "            <img src=\"{}\" style=\"float: left;\" width=\"40\" height=\"40\">\n",
        "            <h3 style=\"margin-left: 50px; margin-top: 2px;\">{}</h3>\n",
        "            <p style=\"margin-left: 50px; margin-top: -6px; font-size: 12px\">{} prob.</p>\n",
        "            <p style=\"margin-left: 50px; margin-top: -16px; font-size: 12px\">Real Target: {}</p>\n",
        "            <p style=\"margin-left: 50px; margin-top: -16px; font-size: 12px\">Filename: {}</p>\n",
        "        </div>\n",
        "    </div>\n",
        "    '''.format(img_to_display(filename)\n",
        "               , gender_icon\n",
        "               , gender\n",
        "               , \"{0:.2f}%\".format(round(max(prediction)*100,2))\n",
        "               , gender_target[target]\n",
        "               , filename.split('/')[-1]\n",
        "               )\n",
        "\n",
        "    display(HTML(display_html))"
      ],
      "execution_count": null,
      "outputs": []
    },
    {
      "cell_type": "code",
      "metadata": {
        "id": "xpm1glxpF9yX",
        "colab_type": "code",
        "colab": {}
      },
      "source": [
        "def gender_prediction(filename):\n",
        "    '''\n",
        "    predict the gender\n",
        "    \n",
        "    input:\n",
        "        filename: str of the file name\n",
        "        \n",
        "    return:\n",
        "        array of the prob of the targets.\n",
        "    \n",
        "    '''\n",
        "    \n",
        "    im = cv2.imread(filename)\n",
        "    im = cv2.resize(cv2.cvtColor(im, cv2.COLOR_BGR2RGB), (178, 218)).astype(np.float32) / 255.0\n",
        "    im = np.expand_dims(im, axis =0)\n",
        "    \n",
        "    # prediction\n",
        "    result = model_.predict(im)\n",
        "    prediction = np.argmax(result)\n",
        "    \n",
        "    return result"
      ],
      "execution_count": null,
      "outputs": []
    },
    {
      "cell_type": "code",
      "metadata": {
        "id": "CZ65B6KqGGRl",
        "colab_type": "code",
        "colab": {}
      },
      "source": [
        "#select random images of the test partition\n",
        "df_to_test = df_par_attr[(df_par_attr['partition'] == 2)].sample(8)\n",
        "\n",
        "for index, target in df_to_test.iterrows():\n",
        "    result = gender_prediction(images_folder + index)\n",
        "    \n",
        "    #display result\n",
        "    display_result(images_folder + index, result[0], target['Male'])"
      ],
      "execution_count": null,
      "outputs": []
    },
    {
      "cell_type": "markdown",
      "metadata": {
        "id": "KGDaA5XRGK-M",
        "colab_type": "text"
      },
      "source": [
        "##learning"
      ]
    }
  ]
}