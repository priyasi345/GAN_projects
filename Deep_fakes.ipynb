{
  "nbformat": 4,
  "nbformat_minor": 0,
  "metadata": {
    "colab": {
      "name": "Untitled",
      "provenance": [],
      "collapsed_sections": [],
      "authorship_tag": "ABX9TyP94bFNF+v61KDLm/undJnl",
      "include_colab_link": true
    },
    "kernelspec": {
      "name": "python3",
      "display_name": "Python 3"
    },
    "accelerator": "GPU"
  },
  "cells": [
    {
      "cell_type": "markdown",
      "metadata": {
        "id": "view-in-github",
        "colab_type": "text"
      },
      "source": [
        "<a href=\"https://colab.research.google.com/github/priyasi345/GAN_projects/blob/master/Deep_fakes.ipynb\" target=\"_parent\"><img src=\"https://colab.research.google.com/assets/colab-badge.svg\" alt=\"Open In Colab\"/></a>"
      ]
    },
    {
      "cell_type": "code",
      "metadata": {
        "id": "4USNJI52EMLB",
        "colab_type": "code",
        "colab": {}
      },
      "source": [
        "\n",
        "import numpy as np # linear algebra\n",
        "import pandas as pd # data processing, CSV file I/O (e.g. pd.read_csv)\n",
        "\n",
        "# Input data files are available in the \"../input/\" directory.\n",
        "# For example, running this (by clicking run or pressing Shift+Enter) will list all files under the input directory\n",
        "\n",
        "# import file utilities\n",
        "import os\n",
        "import glob\n",
        "\n",
        "# import charting\n",
        "import matplotlib.pyplot as plt\n",
        "from matplotlib.animation import FuncAnimation, ArtistAnimation \n",
        "%matplotlib inline\n",
        "\n",
        "from IPython.display import HTML\n",
        "\n",
        "# import computer vision\n",
        "import cv2\n",
        "from skimage.measure import compare_ssim"
      ],
      "execution_count": null,
      "outputs": []
    },
    {
      "cell_type": "code",
      "metadata": {
        "id": "2JiMPYcNEONN",
        "colab_type": "code",
        "colab": {}
      },
      "source": [
        "TEST_PATH = '/content/test_videos/'\n",
        "TRAIN_PATH = '/content/train_sample_videos/'\n",
        "\n",
        "metadata = '/content/metadata.json'"
      ],
      "execution_count": null,
      "outputs": []
    },
    {
      "cell_type": "code",
      "metadata": {
        "id": "EyN5eiq1ERBX",
        "colab_type": "code",
        "colab": {}
      },
      "source": [
        "# load the filenames for train videos\n",
        "train_fns = sorted(glob.glob(TRAIN_PATH + '*.mp4'))\n",
        "\n",
        "# load the filenames for test videos\n",
        "test_fns = sorted(glob.glob(TEST_PATH + '*.mp4'))\n",
        "\n",
        "print('There are {} samples in the train set.'.format(len(train_fns)))\n",
        "print('There are {} samples in the test set.'.format(len(test_fns)))"
      ],
      "execution_count": null,
      "outputs": []
    },
    {
      "cell_type": "code",
      "metadata": {
        "id": "Asz52K8QEUBY",
        "colab_type": "code",
        "colab": {}
      },
      "source": [
        "meta = pd.read_json(metadata).transpose()\n",
        "meta.head()"
      ],
      "execution_count": null,
      "outputs": []
    },
    {
      "cell_type": "code",
      "metadata": {
        "id": "2LWNl1uYEXZC",
        "colab_type": "code",
        "colab": {}
      },
      "source": [
        "# Pie chart, where the slices will be ordered and plotted counter-clockwise:\n",
        "labels = 'FAKE', 'REAL'\n",
        "sizes = [meta[meta.label == 'FAKE'].label.count(), meta[meta.label == 'REAL'].label.count()]\n",
        "\n",
        "fig1, ax1 = plt.subplots(figsize=(10,7))\n",
        "ax1.pie(sizes, labels=labels, autopct='%1.1f%%',\n",
        "        shadow=True, startangle=90, colors=['#f4d53f', '#02a1d8'])\n",
        "ax1.axis('equal')  # Equal aspect ratio ensures that pie is drawn as a circle.\n",
        "plt.title('Labels', fontsize=16)\n",
        "\n",
        "plt.show()"
      ],
      "execution_count": null,
      "outputs": []
    },
    {
      "cell_type": "code",
      "metadata": {
        "id": "c7d2aknIEcf6",
        "colab_type": "code",
        "colab": {}
      },
      "source": [
        "visualize_frame(train_fns[0], meta)"
      ],
      "execution_count": null,
      "outputs": []
    },
    {
      "cell_type": "code",
      "metadata": {
        "id": "WsMapg-TEkiv",
        "colab_type": "code",
        "colab": {}
      },
      "source": [
        "visualize_frame(train_fns[4], meta)"
      ],
      "execution_count": null,
      "outputs": []
    },
    {
      "cell_type": "code",
      "metadata": {
        "id": "SGO40THREnpp",
        "colab_type": "code",
        "colab": {}
      },
      "source": [
        "visualize_frame(train_fns[8], meta)"
      ],
      "execution_count": null,
      "outputs": []
    },
    {
      "cell_type": "code",
      "metadata": {
        "id": "bH4k1xnwEn5x",
        "colab_type": "code",
        "colab": {}
      },
      "source": [
        "visualize_frame('/content/deepfake-detection-challenge/train_sample_videos/afoovlsmtx.mp4', meta)"
      ],
      "execution_count": null,
      "outputs": []
    },
    {
      "cell_type": "code",
      "metadata": {
        "id": "OwK2d2NpErYO",
        "colab_type": "code",
        "colab": {}
      },
      "source": [
        "visualize_frame('/content/deepfake-detection-challenge/train_sample_videos/agrmhtjdlk.mp4', meta)"
      ],
      "execution_count": null,
      "outputs": []
    },
    {
      "cell_type": "code",
      "metadata": {
        "id": "KqbDWK4AE-VY",
        "colab_type": "code",
        "colab": {}
      },
      "source": [
        "def get_frames(filename):\n",
        "    '''\n",
        "    Get all frames from the video\n",
        "    INPUT:\n",
        "        filename - video filename\n",
        "    OUTPUT:\n",
        "        frames - the array of video frames\n",
        "    '''\n",
        "    frames = []\n",
        "    cap = cv2.VideoCapture(filename)\n",
        "\n",
        "    while(cap.isOpened()):\n",
        "        ret, frame = cap.read()\n",
        "                \n",
        "        if not ret:\n",
        "            break;\n",
        "            \n",
        "        image = cv2.cvtColor(frame, cv2.COLOR_BGR2RGB)\n",
        "        frames.append(image)\n",
        "\n",
        "    cap.release()\n",
        "    cv2.destroyAllWindows()\n",
        "    return frames\n",
        "\n",
        "def create_animation(filename):\n",
        "    '''\n",
        "    Function to plot the animation with matplotlib\n",
        "    INPUT:\n",
        "        filename - filename of the video\n",
        "    '''\n",
        "    fig = plt.figure(figsize=(10,7))\n",
        "    frames = get_frames(filename)\n",
        "\n",
        "    ims = []\n",
        "    for frame in frames:\n",
        "        im = plt.imshow(frame, animated=True)\n",
        "        ims.append([im])\n",
        "\n",
        "    animation = ArtistAnimation(fig, ims, interval=30, repeat_delay=1000)\n",
        "    plt.show()\n",
        "    return animation\n",
        "\n",
        "def visualize_several_frames(frames, step=100, cols = 3, title=''):\n",
        "    '''\n",
        "    Function to visualize the frames from the video\n",
        "    INPUT:\n",
        "        filename - filename of the video\n",
        "        step - the step between the video frames to visualize\n",
        "        cols - number of columns of frame grid\n",
        "    '''\n",
        "    n_frames = len(range(0, len(frames), step))\n",
        "    rows = n_frames // cols\n",
        "    if n_frames % cols > 0:\n",
        "        rows = rows + 1\n",
        "    \n",
        "    fig, axs = plt.subplots(rows, cols, figsize=(20,20))\n",
        "    for i in range(0, n_frames):\n",
        "        frame = frames[i]\n",
        "        \n",
        "        r = i // cols\n",
        "        c = i % cols\n",
        "        \n",
        "        axs[r,c].imshow(frame)\n",
        "        axs[r,c].axis('off')\n",
        "        axs[r,c].set_title(str(i))\n",
        "        \n",
        "    plt.suptitle(title)\n",
        "    plt.show()"
      ],
      "execution_count": null,
      "outputs": []
    },
    {
      "cell_type": "code",
      "metadata": {
        "id": "PtsZXxF8E-uH",
        "colab_type": "code",
        "colab": {}
      },
      "source": [
        "frames = get_frames(train_fns[0])\n",
        "visualize_several_frames(frames, step=50, cols = 2, title=train_fns[0].split('/')[-1])"
      ],
      "execution_count": null,
      "outputs": []
    },
    {
      "cell_type": "code",
      "metadata": {
        "id": "01MDT8evFBX1",
        "colab_type": "code",
        "colab": {}
      },
      "source": [
        "animation = create_animation_zoomed(train_fns[0])\n",
        "HTML(animation.to_jshtml())"
      ],
      "execution_count": null,
      "outputs": []
    },
    {
      "cell_type": "code",
      "metadata": {
        "id": "9wQciFnFFGhw",
        "colab_type": "code",
        "colab": {}
      },
      "source": [
        "# visualize the zoomed in frames\n",
        "frames_face = get_frames_zoomed(train_fns[0])\n",
        "visualize_several_frames(frames_face, step=55, cols = 2, title=train_fns[0].split('/')[-1])"
      ],
      "execution_count": null,
      "outputs": []
    },
    {
      "cell_type": "code",
      "metadata": {
        "id": "gPkM87zkFJLY",
        "colab_type": "code",
        "colab": {}
      },
      "source": [
        "scores = get_similarity_scores(frames)\n",
        "plot_scores(scores)"
      ],
      "execution_count": null,
      "outputs": []
    },
    {
      "cell_type": "code",
      "metadata": {
        "id": "Y6W1-oPFFJdU",
        "colab_type": "code",
        "colab": {}
      },
      "source": [
        "max_dist = np.argmax(scores[1:50])\n",
        "max_dist\n",
        "plt.imshow(frames_face[max_dist])"
      ],
      "execution_count": null,
      "outputs": []
    },
    {
      "cell_type": "code",
      "metadata": {
        "id": "QslAKuq4FPAx",
        "colab_type": "code",
        "colab": {}
      },
      "source": [
        "plt.imshow(frames_face[max_dist+5])"
      ],
      "execution_count": null,
      "outputs": []
    },
    {
      "cell_type": "code",
      "metadata": {
        "id": "e5yYyNnOFPTW",
        "colab_type": "code",
        "colab": {}
      },
      "source": [
        "visualize_frame('/content/deepfake-utils/vudstovrck.mp4', meta, train = False)"
      ],
      "execution_count": null,
      "outputs": []
    },
    {
      "cell_type": "code",
      "metadata": {
        "id": "_1RJIGfDFU1_",
        "colab_type": "code",
        "colab": {}
      },
      "source": [
        "# get frames from the original video\n",
        "orig_frames = get_frames('/content/deepfake-utils/vudstovrck.mp4')\n",
        "# plot similarity scores\n",
        "orig_scores = get_similarity_scores(orig_frames)\n",
        "plot_scores(orig_scores)"
      ],
      "execution_count": null,
      "outputs": []
    },
    {
      "cell_type": "code",
      "metadata": {
        "id": "bn3GTxdRFXjA",
        "colab_type": "code",
        "colab": {}
      },
      "source": [
        "plt.figure(figsize=(12,7))\n",
        "plt.plot(scores, label = 'fake image', color='g')\n",
        "plt.plot(orig_scores, label = 'real image', color='orange')\n",
        "plt.title('Similarity Scores (Real and Fake)')\n",
        "plt.show()"
      ],
      "execution_count": null,
      "outputs": []
    },
    {
      "cell_type": "code",
      "metadata": {
        "id": "jM8d3g8SFX5L",
        "colab_type": "code",
        "colab": {}
      },
      "source": [
        "##unable to upload large data bcoz of too slow net speed.That's y for now i ve uploaded this repo widout running..later i ll run it when i ll ve good internet speed..\n",
        "##learning"
      ],
      "execution_count": null,
      "outputs": []
    }
  ]
}